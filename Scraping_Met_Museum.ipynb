{
 "cells": [
  {
   "cell_type": "code",
   "execution_count": 48,
   "metadata": {},
   "outputs": [],
   "source": [
    "import requests\n",
    "from bs4 import BeautifulSoup\n",
    "import json\n"
   ]
  },
  {
   "cell_type": "code",
   "execution_count": 33,
   "metadata": {},
   "outputs": [],
   "source": [
    "# This is for scrapping the site's html\n",
    "res = requests.get(\"https://www.metmuseum.org/art/collection/search#!?q=Assyrian&perPage=80&searchField=All&sortBy=relevance&offset=0&pageSize=0\")"
   ]
  },
  {
   "cell_type": "code",
   "execution_count": 80,
   "metadata": {},
   "outputs": [],
   "source": [
    "# This is for getting results from an API\n",
    "\n",
    "urls = []\n",
    "for page in range(0,10):\n",
    "    #print(f\"https://www.metmuseum.org/api/collection/collectionlisting?offset={page}&pageSize=0&perPage=80&q=Assyrian&searchField=All&showOnly=&sortBy=relevance&sortOrder=asc\")\n",
    "    res_api = requests.get(f\"https://www.metmuseum.org/api/collection/collectionlisting?offset={page}&pageSize=0&perPage=80&q=Assyrian&searchField=All&showOnly=&sortBy=relevance&sortOrder=asc\")\n",
    "    items = json.loads(res_api.text)['results']\n",
    "    for item in items:\n",
    "        urls.append(item['url'])"
   ]
  },
  {
   "cell_type": "code",
   "execution_count": 81,
   "metadata": {},
   "outputs": [],
   "source": [
    "url_with_metmuseum = [f\"https://www.metmuseum.org{url}\" for url in urls]"
   ]
  },
  {
   "cell_type": "code",
   "execution_count": 84,
   "metadata": {},
   "outputs": [
    {
     "name": "stdout",
     "output_type": "stream",
     "text": [
      "https://www.metmuseum.org/art/collection/search/325568?searchField=All&amp;sortBy=relevance&amp;ft=Assyrian&amp;offset=0&amp;rpp=80&amp;pos=43\n"
     ]
    }
   ],
   "source": [
    "print(url_with_metmuseum[42])"
   ]
  },
  {
   "cell_type": "code",
   "execution_count": 87,
   "metadata": {},
   "outputs": [],
   "source": [
    "res = requests.get(url_with_metmuseum[42])"
   ]
  },
  {
   "cell_type": "code",
   "execution_count": 88,
   "metadata": {},
   "outputs": [],
   "source": [
    "soup = BeautifulSoup(res.text, 'html.parser')"
   ]
  },
  {
   "cell_type": "code",
   "execution_count": 89,
   "metadata": {},
   "outputs": [],
   "source": [
    "search_results = soup.find_all('span', {'class': 'artwork__tombstone--value'})"
   ]
  },
  {
   "cell_type": "code",
   "execution_count": 95,
   "metadata": {},
   "outputs": [
    {
     "data": {
      "text/plain": [
       "'\"Neo-Assyrian\",\"ca. 9th–8th century B.C.\",\"Mesopotamia, Nimrud (ancient Kalhu)\",\"Assyrian\",\"Ivory\",\"9.53 x 2.95 x 1.89 in. (24.21 x 7.49 x 4.8 cm)\",\"Ivory/Bone-Sculpture\",\"Rogers Fund, 1962\",\"62.269.7\"'"
      ]
     },
     "execution_count": 95,
     "metadata": {},
     "output_type": "execute_result"
    }
   ],
   "source": [
    "\",\".join(['\"' + item.text + '\"' for item in search_results])"
   ]
  }
 ],
 "metadata": {
  "kernelspec": {
   "display_name": "Python 3",
   "language": "python",
   "name": "python3"
  },
  "language_info": {
   "codemirror_mode": {
    "name": "ipython",
    "version": 3
   },
   "file_extension": ".py",
   "mimetype": "text/x-python",
   "name": "python",
   "nbconvert_exporter": "python",
   "pygments_lexer": "ipython3",
   "version": "3.6.4"
  }
 },
 "nbformat": 4,
 "nbformat_minor": 2
}
